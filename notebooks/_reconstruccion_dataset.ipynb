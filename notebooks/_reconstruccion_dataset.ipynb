{
 "cells": [
  {
   "cell_type": "code",
   "execution_count": 1,
   "metadata": {},
   "outputs": [],
   "source": [
    "\n",
    "import sys\n",
    "import os\n",
    "\n",
    "# Agregar el directorio raiz al PYTHONPATH\n",
    "module_path = os.path.abspath(os.path.join('..'))\n",
    "if module_path not in sys.path:\n",
    "    sys.path.append(module_path)\n"
   ]
  },
  {
   "cell_type": "markdown",
   "metadata": {},
   "source": [
    "Cargar los datos recolectados fusionados"
   ]
  },
  {
   "cell_type": "code",
   "execution_count": 2,
   "metadata": {},
   "outputs": [],
   "source": [
    "import pandas as pd\n",
    "from config.config_scraped import MERGED_SCRAPED_DATA_PATH\n",
    "from config.config_transcribe import TRANSCRIBED_VIDEOS_PATH"
   ]
  },
  {
   "cell_type": "code",
   "execution_count": 3,
   "metadata": {},
   "outputs": [],
   "source": [
    "df_merged = pd.read_csv(MERGED_SCRAPED_DATA_PATH)"
   ]
  },
  {
   "cell_type": "code",
   "execution_count": 4,
   "metadata": {},
   "outputs": [
    {
     "name": "stdout",
     "output_type": "stream",
     "text": [
      "filas: 7108\n",
      "coulmnas: 8\n"
     ]
    }
   ],
   "source": [
    "print(f\"filas: {df_merged.shape[0]}\")\n",
    "print(f\"coulmnas: {df_merged.shape[1]}\")"
   ]
  },
  {
   "cell_type": "markdown",
   "metadata": {},
   "source": [
    "¿Cuantas urls repetidas hay?"
   ]
  },
  {
   "cell_type": "code",
   "execution_count": 5,
   "metadata": {},
   "outputs": [
    {
     "name": "stdout",
     "output_type": "stream",
     "text": [
      "(6398,)\n",
      "(6398, 8)\n",
      "<class 'pandas.core.frame.DataFrame'>\n",
      "RangeIndex: 6398 entries, 0 to 6397\n",
      "Data columns (total 8 columns):\n",
      " #   Column              Non-Null Count  Dtype  \n",
      "---  ------              --------------  -----  \n",
      " 0   views               6398 non-null   int64  \n",
      " 1   title               4107 non-null   object \n",
      " 2   hashtags            5838 non-null   object \n",
      " 3   date                6398 non-null   object \n",
      " 4   fecha_recuperacion  6398 non-null   object \n",
      " 5   caption             0 non-null      float64\n",
      " 6   url                 6398 non-null   object \n",
      " 7   termino             6398 non-null   object \n",
      "dtypes: float64(1), int64(1), object(6)\n",
      "memory usage: 400.0+ KB\n",
      "None\n"
     ]
    }
   ],
   "source": [
    "print(df_merged[\"url\"].unique().shape)\n",
    "print(df_merged.drop_duplicates(subset=\"url\", keep=\"first\").reset_index(drop=True).shape)\n",
    "df1 = df_merged.drop_duplicates(subset=\"url\", keep=\"first\").reset_index(drop=True)\n",
    "print(df1.info())"
   ]
  },
  {
   "cell_type": "markdown",
   "metadata": {},
   "source": [
    "# Datos con fechas reconstruidas"
   ]
  },
  {
   "cell_type": "markdown",
   "metadata": {},
   "source": [
    "Colocar el archivo con las fechas previamente reconstruidas en la ruta TRANSCRIBED_VIDEOS-PATH."
   ]
  },
  {
   "cell_type": "code",
   "execution_count": 6,
   "metadata": {},
   "outputs": [],
   "source": [
    "df_fechas_rec = pd.read_csv(TRANSCRIBED_VIDEOS_PATH)"
   ]
  },
  {
   "cell_type": "code",
   "execution_count": 7,
   "metadata": {},
   "outputs": [
    {
     "name": "stdout",
     "output_type": "stream",
     "text": [
      "filas: 6059\n",
      "coulmnas: 10\n",
      "<class 'pandas.core.frame.DataFrame'>\n",
      "RangeIndex: 6059 entries, 0 to 6058\n",
      "Data columns (total 10 columns):\n",
      " #   Column             Non-Null Count  Dtype \n",
      "---  ------             --------------  ----- \n",
      " 0   fecha_publicacion  6059 non-null   object\n",
      " 1   termino            6059 non-null   object\n",
      " 2   vistas             6059 non-null   int64 \n",
      " 3   url                6059 non-null   object\n",
      " 4   titulo             3931 non-null   object\n",
      " 5   hashtags           5511 non-null   object\n",
      " 6   descargado         6059 non-null   bool  \n",
      " 7   text               5753 non-null   object\n",
      " 8   idioma             5966 non-null   object\n",
      " 9   polaridad          5149 non-null   object\n",
      "dtypes: bool(1), int64(1), object(8)\n",
      "memory usage: 432.1+ KB\n",
      "None\n"
     ]
    }
   ],
   "source": [
    "\n",
    "print(f\"filas: {df_fechas_rec.shape[0]}\")\n",
    "print(f\"coulmnas: {df_fechas_rec.shape[1]}\")\n",
    "df2 = df_fechas_rec.drop_duplicates(subset=\"url\", keep=\"first\").reset_index(drop=True)\n",
    "print(df2.info())"
   ]
  },
  {
   "cell_type": "markdown",
   "metadata": {},
   "source": [
    "Hubo 7108 videos recolectados en total\n",
    "\n",
    "De los cuales 6398 son videos únicos o urls únicas.\n",
    "\n",
    "Y solamente se obtuvo la transcripción de 6059 videos de los 6398 videos únicos."
   ]
  },
  {
   "cell_type": "code",
   "execution_count": 8,
   "metadata": {},
   "outputs": [],
   "source": [
    "merged_df = df2.merge(df1, on='url', how='left')\n"
   ]
  },
  {
   "cell_type": "code",
   "execution_count": 9,
   "metadata": {},
   "outputs": [
    {
     "name": "stdout",
     "output_type": "stream",
     "text": [
      "<class 'pandas.core.frame.DataFrame'>\n",
      "RangeIndex: 6059 entries, 0 to 6058\n",
      "Data columns (total 17 columns):\n",
      " #   Column              Non-Null Count  Dtype  \n",
      "---  ------              --------------  -----  \n",
      " 0   fecha_publicacion   6059 non-null   object \n",
      " 1   termino_x           6059 non-null   object \n",
      " 2   vistas              6059 non-null   int64  \n",
      " 3   url                 6059 non-null   object \n",
      " 4   titulo              3931 non-null   object \n",
      " 5   hashtags_x          5511 non-null   object \n",
      " 6   descargado          6059 non-null   bool   \n",
      " 7   text                5753 non-null   object \n",
      " 8   idioma              5966 non-null   object \n",
      " 9   polaridad           5149 non-null   object \n",
      " 10  views               6059 non-null   int64  \n",
      " 11  title               3931 non-null   object \n",
      " 12  hashtags_y          5511 non-null   object \n",
      " 13  date                6059 non-null   object \n",
      " 14  fecha_recuperacion  6059 non-null   object \n",
      " 15  caption             0 non-null      float64\n",
      " 16  termino_y           6059 non-null   object \n",
      "dtypes: bool(1), float64(1), int64(2), object(13)\n",
      "memory usage: 763.4+ KB\n",
      "None\n",
      "(6059, 17)\n"
     ]
    }
   ],
   "source": [
    "print(merged_df.info())\n",
    "print(merged_df.shape)"
   ]
  },
  {
   "cell_type": "markdown",
   "metadata": {},
   "source": [
    "\n",
    "Reconstruir la fecha de publicacion"
   ]
  },
  {
   "cell_type": "code",
   "execution_count": 10,
   "metadata": {},
   "outputs": [],
   "source": [
    "\n",
    "from src.limpieza.limpieza import corregir_fecha_tiktok\n",
    "merged_df['fecha_publicacion_y'] = merged_df.apply(\n",
    "    lambda row: corregir_fecha_tiktok(row['date'], row['fecha_recuperacion']),\n",
    "    axis=1\n",
    ")"
   ]
  },
  {
   "cell_type": "code",
   "execution_count": 11,
   "metadata": {},
   "outputs": [
    {
     "name": "stdout",
     "output_type": "stream",
     "text": [
      "<class 'pandas.core.frame.DataFrame'>\n",
      "RangeIndex: 6059 entries, 0 to 6058\n",
      "Data columns (total 18 columns):\n",
      " #   Column               Non-Null Count  Dtype         \n",
      "---  ------               --------------  -----         \n",
      " 0   fecha_publicacion    6059 non-null   datetime64[ns]\n",
      " 1   termino_x            6059 non-null   object        \n",
      " 2   vistas               6059 non-null   int64         \n",
      " 3   url                  6059 non-null   object        \n",
      " 4   titulo               3931 non-null   object        \n",
      " 5   hashtags_x           5511 non-null   object        \n",
      " 6   descargado           6059 non-null   bool          \n",
      " 7   text                 5753 non-null   object        \n",
      " 8   idioma               5966 non-null   object        \n",
      " 9   polaridad            5149 non-null   object        \n",
      " 10  views                6059 non-null   int64         \n",
      " 11  title                3931 non-null   object        \n",
      " 12  hashtags_y           5511 non-null   object        \n",
      " 13  date                 6059 non-null   object        \n",
      " 14  fecha_recuperacion   6059 non-null   object        \n",
      " 15  caption              0 non-null      float64       \n",
      " 16  termino_y            6059 non-null   object        \n",
      " 17  fecha_publicacion_y  6059 non-null   datetime64[ns]\n",
      "dtypes: bool(1), datetime64[ns](2), float64(1), int64(2), object(12)\n",
      "memory usage: 810.8+ KB\n",
      "None\n"
     ]
    }
   ],
   "source": [
    "merged_df['fecha_publicacion'] = pd.to_datetime(merged_df['fecha_publicacion'])\n",
    "merged_df['fecha_publicacion_y'] = pd.to_datetime(merged_df['fecha_publicacion_y'])\n",
    "print(merged_df.info())\n"
   ]
  },
  {
   "cell_type": "markdown",
   "metadata": {},
   "source": [
    "Verificamos que los hastags, terminos, etc sean los mismos"
   ]
  },
  {
   "cell_type": "code",
   "execution_count": 12,
   "metadata": {},
   "outputs": [
    {
     "name": "stdout",
     "output_type": "stream",
     "text": [
      "Diferencias en 'termino':\n",
      "Empty DataFrame\n",
      "Columns: [url, termino_x, termino_y]\n",
      "Index: []\n",
      "\n",
      "Diferencias en 'hashtags':\n",
      "                                                    url hashtags_x hashtags_y\n",
      "20    https://www.tiktok.com/@romanntiqa/video/74497...        NaN        NaN\n",
      "22    https://www.tiktok.com/@claudiagarmaa/video/74...        NaN        NaN\n",
      "24    https://www.tiktok.com/@unotv/video/7462445502...        NaN        NaN\n",
      "37    https://www.tiktok.com/@nachopla12/video/72208...        NaN        NaN\n",
      "38    https://www.tiktok.com/@luciallamasmartinez/vi...        NaN        NaN\n",
      "...                                                 ...        ...        ...\n",
      "5998  https://www.tiktok.com/@chicavainilla/video/72...        NaN        NaN\n",
      "6022  https://www.tiktok.com/@sanando.ando/video/742...        NaN        NaN\n",
      "6030  https://www.tiktok.com/@thetechbadger/video/73...        NaN        NaN\n",
      "6046  https://www.tiktok.com/@isabelacastroa/video/7...        NaN        NaN\n",
      "6051  https://www.tiktok.com/@chicavainilla/video/74...        NaN        NaN\n",
      "\n",
      "[548 rows x 3 columns]\n",
      "\n",
      "Diferencias en 'vistas':\n",
      "Empty DataFrame\n",
      "Columns: [url, views, vistas]\n",
      "Index: []\n",
      "\n",
      "Diferencias en 'titulo':\n",
      "                                                    url title titulo\n",
      "30    https://www.tiktok.com/@danitrenado/video/7104...   NaN    NaN\n",
      "77    https://www.tiktok.com/@branxkarinita/video/72...   NaN    NaN\n",
      "91    https://www.tiktok.com/@txpoa_.m/video/7133195...   NaN    NaN\n",
      "93    https://www.tiktok.com/@talaveravvvvvv/video/7...   NaN    NaN\n",
      "97    https://www.tiktok.com/@eduardo______________1...   NaN    NaN\n",
      "...                                                 ...   ...    ...\n",
      "5876  https://www.tiktok.com/@luffymonkey080/video/7...   NaN    NaN\n",
      "5877  https://www.tiktok.com/@taurozzi/video/6913981...   NaN    NaN\n",
      "5878  https://www.tiktok.com/@dgromodm/video/7419049...   NaN    NaN\n",
      "5879  https://www.tiktok.com/@rinconotakula/video/73...   NaN    NaN\n",
      "5880  https://www.tiktok.com/@ibarrechejavier/video/...   NaN    NaN\n",
      "\n",
      "[2128 rows x 3 columns]\n",
      "\n",
      "Diferencias en 'fecha':\n",
      "Empty DataFrame\n",
      "Columns: [url, fecha_publicacion, fecha_publicacion_y]\n",
      "Index: []\n"
     ]
    }
   ],
   "source": [
    "termino_igual = merged_df['termino_x'] == merged_df['termino_y']\n",
    "hashtags_igual = merged_df['hashtags_x'] == merged_df['hashtags_y']\n",
    "vistas_igual = merged_df['views'] == merged_df['vistas']\n",
    "titulo_igual = merged_df['title'] == merged_df['titulo']\n",
    "fecha_igual = merged_df['fecha_publicacion'] == merged_df['fecha_publicacion_y']\n",
    "\n",
    "# Mostrar filas donde hay diferencias\n",
    "diferencias_termino = merged_df[~termino_igual][['url', 'termino_x', 'termino_y']]\n",
    "diferencias_hashtags = merged_df[~hashtags_igual][['url', 'hashtags_x', 'hashtags_y']]\n",
    "diferencias_vistas = merged_df[~vistas_igual][['url', 'views', 'vistas']]\n",
    "diferencias_titulo = merged_df[~titulo_igual][['url', 'title', 'titulo']]\n",
    "diferencias_fecha = merged_df[~fecha_igual][['url', 'fecha_publicacion', 'fecha_publicacion_y']]\n",
    "\n",
    "print(\"Diferencias en 'termino':\")\n",
    "print(diferencias_termino)\n",
    "\n",
    "print(\"\\nDiferencias en 'hashtags':\")\n",
    "print(diferencias_hashtags)\n",
    "\n",
    "print(\"\\nDiferencias en 'vistas':\")\n",
    "print(diferencias_vistas)\n",
    "\n",
    "print(\"\\nDiferencias en 'titulo':\")\n",
    "print(diferencias_titulo)\n",
    "\n",
    "print(\"\\nDiferencias en 'fecha':\")\n",
    "print(diferencias_fecha)\n",
    "\n",
    "# print(termino_igual)\n",
    "# print(hashtags_igual)"
   ]
  },
  {
   "cell_type": "code",
   "execution_count": 13,
   "metadata": {},
   "outputs": [
    {
     "name": "stdout",
     "output_type": "stream",
     "text": [
      "No hay diferencias reales en 'hastags', solo valores NaN.\n",
      "No hay diferencias reales en 'titulo', solo valores NaN.\n"
     ]
    }
   ],
   "source": [
    "# Verificar si las diferencias son solo NaN\n",
    "diferencias_hashtags = merged_df['hashtags_x'] != merged_df['hashtags_y']\n",
    "solo_nan = merged_df['hashtags_x'].isna() | merged_df['hashtags_y'].isna()\n",
    "\n",
    "# Si todas las diferencias son por NaN, entonces no hay diferencias reales\n",
    "if (diferencias_hashtags == solo_nan).all():\n",
    "    print(\"No hay diferencias reales en 'hastags', solo valores NaN.\")\n",
    "else:\n",
    "    print(\"Hay diferencias reales en 'hastags'.\")\n",
    "\n",
    "# Verificar si las diferencias son solo NaN\n",
    "diferencias_titulo = merged_df['title'] != merged_df['titulo']\n",
    "solo_nan = merged_df['title'].isna() | merged_df['titulo'].isna()\n",
    "\n",
    "# Si todas las diferencias son por NaN, entonces no hay diferencias reales\n",
    "if (diferencias_titulo == solo_nan).all():\n",
    "    print(\"No hay diferencias reales en 'titulo', solo valores NaN.\")\n",
    "else:\n",
    "    print(\"Hay diferencias reales en 'titulo'.\")\n",
    "    \n",
    "    "
   ]
  },
  {
   "cell_type": "markdown",
   "metadata": {},
   "source": [
    "Eliminar columnas duplicadas, después de comprobar que tienen los mismos valores"
   ]
  },
  {
   "cell_type": "code",
   "execution_count": 14,
   "metadata": {},
   "outputs": [],
   "source": [
    "merged_df = merged_df.drop(columns=['hashtags_y']).rename(columns={'hashtags_x': 'hashtags'})\n",
    "merged_df = merged_df.drop(columns=['termino_y']).rename(columns={'termino_x': 'termino'})\n",
    "merged_df = merged_df.drop(columns=['title'])\n",
    "merged_df = merged_df.drop(columns=['views'])\n",
    "merged_df = merged_df.drop(columns=['fecha_publicacion_y'])\n",
    "\n",
    "\n",
    "merged_df = merged_df.drop(columns=['caption']) # Este campo es eliminado al obtener la transcripción, es igual al titulo\n",
    "merged_df = merged_df.drop(columns=['fecha_publicacion']) # Será reconstruida en el EDA\n"
   ]
  },
  {
   "cell_type": "code",
   "execution_count": 15,
   "metadata": {},
   "outputs": [
    {
     "name": "stdout",
     "output_type": "stream",
     "text": [
      "<class 'pandas.core.frame.DataFrame'>\n",
      "RangeIndex: 6059 entries, 0 to 6058\n",
      "Data columns (total 11 columns):\n",
      " #   Column              Non-Null Count  Dtype \n",
      "---  ------              --------------  ----- \n",
      " 0   termino             6059 non-null   object\n",
      " 1   vistas              6059 non-null   int64 \n",
      " 2   url                 6059 non-null   object\n",
      " 3   titulo              3931 non-null   object\n",
      " 4   hashtags            5511 non-null   object\n",
      " 5   descargado          6059 non-null   bool  \n",
      " 6   text                5753 non-null   object\n",
      " 7   idioma              5966 non-null   object\n",
      " 8   polaridad           5149 non-null   object\n",
      " 9   date                6059 non-null   object\n",
      " 10  fecha_recuperacion  6059 non-null   object\n",
      "dtypes: bool(1), int64(1), object(9)\n",
      "memory usage: 479.4+ KB\n",
      "None\n"
     ]
    }
   ],
   "source": [
    "print(merged_df.info())"
   ]
  },
  {
   "cell_type": "markdown",
   "metadata": {},
   "source": [
    "\n",
    "Reordenar columnas"
   ]
  },
  {
   "cell_type": "code",
   "execution_count": 16,
   "metadata": {},
   "outputs": [],
   "source": [
    "cols = [\"date\", \"fecha_recuperacion\", \"termino\", \"vistas\", \"url\", \"titulo\", \"hashtags\", \"descargado\", \"text\", \"idioma\", \"polaridad\"]\n",
    "merged_df = merged_df[cols] # Reordenar"
   ]
  },
  {
   "cell_type": "markdown",
   "metadata": {},
   "source": [
    "⚠ Guardar uno con polaridad y otro sin polaridad para el eda"
   ]
  },
  {
   "cell_type": "code",
   "execution_count": 17,
   "metadata": {},
   "outputs": [],
   "source": [
    "\n",
    "merged_df.to_csv(\"transcribed_polaridad.csv\", index=False)"
   ]
  },
  {
   "cell_type": "code",
   "execution_count": 18,
   "metadata": {},
   "outputs": [],
   "source": [
    "merged_df = merged_df.drop(columns=['polaridad'])\n",
    "merged_df.to_csv(\"transcribed1.csv\",index=False)"
   ]
  }
 ],
 "metadata": {
  "kernelspec": {
   "display_name": "tensorflow_pytorch",
   "language": "python",
   "name": "python3"
  },
  "language_info": {
   "codemirror_mode": {
    "name": "ipython",
    "version": 3
   },
   "file_extension": ".py",
   "mimetype": "text/x-python",
   "name": "python",
   "nbconvert_exporter": "python",
   "pygments_lexer": "ipython3",
   "version": "3.11.11"
  }
 },
 "nbformat": 4,
 "nbformat_minor": 2
}
