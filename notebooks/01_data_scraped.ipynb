{
 "cells": [
  {
   "cell_type": "markdown",
   "metadata": {},
   "source": [
    "# Fusionar los datos recolectados de TikTok"
   ]
  },
  {
   "cell_type": "code",
   "execution_count": null,
   "metadata": {},
   "outputs": [],
   "source": [
    "import sys\n",
    "import os\n",
    "\n",
    "# Agregar el directorio raiz al PYTHONPATH\n",
    "module_path = os.path.abspath(os.path.join('..'))\n",
    "if module_path not in sys.path:\n",
    "    sys.path.append(module_path)\n"
   ]
  },
  {
   "cell_type": "code",
   "execution_count": null,
   "metadata": {},
   "outputs": [],
   "source": [
    "import pandas as pd\n",
    "\n",
    "from config.constants_tiktok import (TIKTOK_SCRAPED_DATA_DIR,\n",
    "                                     TIKTOK_MERGED_SCRAPED_DATA_PATH)\n",
    "\n",
    "from src.scraping.merge_data_scraped import merge_data\n",
    "from src.scraping.data_collection import download_and_trancribe"
   ]
  },
  {
   "cell_type": "markdown",
   "metadata": {},
   "source": [
    "Fusionar los archivos .json del duirectorio SCRAPED_DATA_DIR y guardar en MERGED_SCRAPED_DATA_PATH\n",
    "\n",
    "Los archivos contienen las urls de los videos que serán descargados."
   ]
  },
  {
   "cell_type": "code",
   "execution_count": null,
   "metadata": {},
   "outputs": [],
   "source": [
    "merged_df = merge_data(TIKTOK_SCRAPED_DATA_DIR)\n",
    "\n",
    "# Eliminar urls repetidas para evitar descargar el mismo videos varias veces\n",
    "merged_df.drop_duplicates(subset=\"url\", keep=\"first\").reset_index(drop=True)\n",
    "\n",
    "merged_df.to_csv(TIKTOK_MERGED_SCRAPED_DATA_PATH, index=False)"
   ]
  },
  {
   "cell_type": "markdown",
   "metadata": {},
   "source": [
    "# Descargar y transcribir videos"
   ]
  },
  {
   "cell_type": "code",
   "execution_count": null,
   "metadata": {},
   "outputs": [
    {
     "name": "stdout",
     "output_type": "stream",
     "text": [
      "[TikTok] Extracting URL: https://www.tiktok.com/@heavensblaze/video/7209511382864235781\n",
      "[TikTok] 7209511382864235781: Downloading webpage\n",
      "[info] 7209511382864235781: Downloading 1 format(s): bytevc1_720p_528321-1\n",
      "[download] Destination: c:\\Users\\Diego\\Desktop\\sentiment_analysis_pt\\data\\scraped\\download_video\\7209511382864235781.mp4\n",
      "[download] 100% of   13.23MiB in 00:00:01 at 9.31MiB/s     \n",
      "Transcribiendo:  7209511382864235781.mp4\n"
     ]
    },
    {
     "name": "stderr",
     "output_type": "stream",
     "text": [
      "c:\\Users\\Diego\\anaconda3\\envs\\tensorflow_pytorch\\Lib\\site-packages\\whisper\\transcribe.py:132: UserWarning: FP16 is not supported on CPU; using FP32 instead\n",
      "  warnings.warn(\"FP16 is not supported on CPU; using FP32 instead\")\n"
     ]
    },
    {
     "data": {
      "text/plain": [
       "0    True\n",
       "dtype: bool"
      ]
     },
     "execution_count": 3,
     "metadata": {},
     "output_type": "execute_result"
    }
   ],
   "source": [
    "# Cargar los datos a transcribir\n",
    "merged_df = pd.read_csv(TIKTOK_MERGED_SCRAPED_DATA_PATH)\n",
    "start = 0\n",
    "end = 1\n",
    "\n",
    "merged_df['descargado'] = None\n",
    "merged_df['text'] = None\n",
    "merged_df['idioma'] = None\n",
    "\n",
    "sub_df = merged_df[start:end]\n",
    "sub_df.apply(download_and_trancribe, axis=1)"
   ]
  }
 ],
 "metadata": {
  "kernelspec": {
   "display_name": "tensorflow_pytorch",
   "language": "python",
   "name": "python3"
  },
  "language_info": {
   "codemirror_mode": {
    "name": "ipython",
    "version": 3
   },
   "file_extension": ".py",
   "mimetype": "text/x-python",
   "name": "python",
   "nbconvert_exporter": "python",
   "pygments_lexer": "ipython3",
   "version": "3.11.11"
  }
 },
 "nbformat": 4,
 "nbformat_minor": 2
}
