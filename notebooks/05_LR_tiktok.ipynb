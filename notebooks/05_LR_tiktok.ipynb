{
 "cells": [
  {
   "cell_type": "markdown",
   "metadata": {},
   "source": [
    "# Regresión Logística Multiclase"
   ]
  },
  {
   "cell_type": "markdown",
   "metadata": {},
   "source": [
    "## Bibliotecas"
   ]
  },
  {
   "cell_type": "code",
   "execution_count": null,
   "metadata": {},
   "outputs": [],
   "source": [
    "import sys\n",
    "import os\n",
    "import pandas as pd\n",
    "\n",
    "# Agregar el directorio raiz al PYTHONPATH\n",
    "module_path = os.path.abspath(os.path.join('..'))\n",
    "if module_path not in sys.path:\n",
    "    sys.path.append(module_path)"
   ]
  },
  {
   "cell_type": "code",
   "execution_count": null,
   "metadata": {},
   "outputs": [],
   "source": [
    "from src.models.LR import LRModel"
   ]
  },
  {
   "cell_type": "code",
   "execution_count": null,
   "metadata": {},
   "outputs": [],
   "source": [
    "from config.constants_tiktok import TIKTOK_DATASET_SENTENCES, TIKTOK_DATASET_TEXT\n",
    "from config.constants_models import polarity_map, emotion_map\n",
    "\n",
    "df_sentences = pd.read_csv(TIKTOK_DATASET_SENTENCES)\n",
    "df_text = pd.read_csv(TIKTOK_DATASET_TEXT)\n",
    "reports = []\n",
    "EPOCHS = 50\n",
    "BATCH_SIZE = 64\n",
    "LR = 0.1\n",
    "\n",
    "print(df_sentences.info())\n",
    "print(df_text.info())"
   ]
  },
  {
   "cell_type": "markdown",
   "metadata": {},
   "source": [
    "# SA Oraciones"
   ]
  },
  {
   "cell_type": "markdown",
   "metadata": {},
   "source": [
    "## Dividir información (polaridad)"
   ]
  },
  {
   "cell_type": "code",
   "execution_count": null,
   "metadata": {},
   "outputs": [],
   "source": [
    "X = df_sentences['text']\n",
    "y = df_sentences['polarity'].map(polarity_map)\n",
    "\n",
    "print(X.shape)\n",
    "print(y.shape)"
   ]
  },
  {
   "cell_type": "markdown",
   "metadata": {},
   "source": [
    "### TFIDF"
   ]
  },
  {
   "cell_type": "code",
   "execution_count": null,
   "metadata": {},
   "outputs": [],
   "source": [
    "model = LRModel()\n",
    "report = model.start(X, y,'TFIDF', num_classes=3, epochs=EPOCHS, batch_size=BATCH_SIZE,lr=LR)\n",
    "report['task'] = 'polarity'\n",
    "\n",
    "reports.append(report)"
   ]
  },
  {
   "cell_type": "markdown",
   "metadata": {},
   "source": [
    "### BOW"
   ]
  },
  {
   "cell_type": "code",
   "execution_count": null,
   "metadata": {},
   "outputs": [],
   "source": [
    "\n",
    "model = LRModel()\n",
    "report = model.start(X, y,'BOW', num_classes=3, epochs=EPOCHS, batch_size=BATCH_SIZE,lr=LR)\n",
    "report['task'] = 'polarity'\n",
    "reports.append(report)"
   ]
  },
  {
   "cell_type": "markdown",
   "metadata": {},
   "source": [
    "## Dividir información (emoción)"
   ]
  },
  {
   "cell_type": "code",
   "execution_count": null,
   "metadata": {},
   "outputs": [],
   "source": [
    "X = df_sentences['text']\n",
    "y = df_sentences['emotion'].map(emotion_map)\n",
    "\n",
    "print(X.shape)\n",
    "print(y.shape)"
   ]
  },
  {
   "cell_type": "markdown",
   "metadata": {},
   "source": [
    "### TFIDF"
   ]
  },
  {
   "cell_type": "code",
   "execution_count": null,
   "metadata": {},
   "outputs": [],
   "source": [
    "model = LRModel()\n",
    "report = model.start(X, y,'TFIDF', num_classes=3, epochs=EPOCHS, batch_size=BATCH_SIZE ,lr=LR)\n",
    "report['task'] = 'emotion'\n",
    "reports.append(report)"
   ]
  },
  {
   "cell_type": "markdown",
   "metadata": {},
   "source": [
    "### BOw"
   ]
  },
  {
   "cell_type": "code",
   "execution_count": null,
   "metadata": {},
   "outputs": [],
   "source": [
    "model = LRModel()\n",
    "report = model.start(X, y,'BOW', num_classes=3, epochs=EPOCHS, batch_size=BATCH_SIZE,lr=LR)\n",
    "report['task'] = 'emotion'\n",
    "reports.append(report)"
   ]
  },
  {
   "cell_type": "markdown",
   "metadata": {},
   "source": [
    "# SA Texto"
   ]
  },
  {
   "cell_type": "markdown",
   "metadata": {},
   "source": [
    "\n",
    "## Dividir información (polaridad)"
   ]
  },
  {
   "cell_type": "code",
   "execution_count": null,
   "metadata": {},
   "outputs": [],
   "source": [
    "X = df_text['text']\n",
    "y = df_text['polarity'].map(polarity_map)\n",
    "\n",
    "print(X.shape)\n",
    "print(y.shape)\n"
   ]
  },
  {
   "cell_type": "markdown",
   "metadata": {},
   "source": [
    "### TFIDF"
   ]
  },
  {
   "cell_type": "code",
   "execution_count": null,
   "metadata": {},
   "outputs": [],
   "source": [
    "\n",
    "\n",
    "model = LRModel()\n",
    "report = model.start(X, y,'TFIDF', num_classes=3, epochs=EPOCHS, batch_size=BATCH_SIZE,lr=LR)\n",
    "report['task'] = 'polarity'\n",
    "\n",
    "reports.append(report)"
   ]
  },
  {
   "cell_type": "markdown",
   "metadata": {},
   "source": [
    "### BOW"
   ]
  },
  {
   "cell_type": "code",
   "execution_count": null,
   "metadata": {},
   "outputs": [],
   "source": [
    "model = LRModel()\n",
    "report = model.start(X, y,'BOW', num_classes=3, epochs=EPOCHS, batch_size=BATCH_SIZE,lr=LR)\n",
    "report['task'] = 'polarity'\n",
    "reports.append(report)"
   ]
  },
  {
   "cell_type": "markdown",
   "metadata": {},
   "source": [
    "\n",
    "## Dividir información (emoción)"
   ]
  },
  {
   "cell_type": "code",
   "execution_count": null,
   "metadata": {},
   "outputs": [],
   "source": [
    "X = df_text['text']\n",
    "y = df_text['emotion'].map(emotion_map)\n",
    "\n",
    "print(X.shape)\n",
    "print(y.shape)"
   ]
  },
  {
   "cell_type": "markdown",
   "metadata": {},
   "source": [
    "### TFIDF"
   ]
  },
  {
   "cell_type": "code",
   "execution_count": null,
   "metadata": {},
   "outputs": [],
   "source": [
    "model = LRModel()\n",
    "report = model.start(X, y,'TFIDF', num_classes=3, epochs=EPOCHS, batch_size=BATCH_SIZE,lr=LR)\n",
    "report['task'] = 'emotion'\n",
    "reports.append(report)"
   ]
  },
  {
   "cell_type": "markdown",
   "metadata": {},
   "source": [
    "### BOW"
   ]
  },
  {
   "cell_type": "code",
   "execution_count": null,
   "metadata": {},
   "outputs": [],
   "source": [
    "model = LRModel()\n",
    "report = model.start(X, y,'BOW', num_classes=3, epochs=EPOCHS, batch_size=BATCH_SIZE,lr=LR)\n",
    "report['task'] = 'emotion'\n",
    "reports.append(report)"
   ]
  },
  {
   "cell_type": "markdown",
   "metadata": {},
   "source": [
    "# Guardar reporte"
   ]
  },
  {
   "cell_type": "code",
   "execution_count": null,
   "metadata": {},
   "outputs": [],
   "source": [
    "\n",
    "from config.constants_models import REPORT_LR_PATH\n",
    "\n",
    "df_report = pd.DataFrame(reports)\n",
    "df_report.to_csv(REPORT_LR_PATH, index=False)"
   ]
  }
 ],
 "metadata": {
  "kernelspec": {
   "display_name": "tensorflow_pytorch",
   "language": "python",
   "name": "python3"
  },
  "language_info": {
   "codemirror_mode": {
    "name": "ipython",
    "version": 3
   },
   "file_extension": ".py",
   "mimetype": "text/x-python",
   "name": "python",
   "nbconvert_exporter": "python",
   "pygments_lexer": "ipython3",
   "version": "3.11.11"
  }
 },
 "nbformat": 4,
 "nbformat_minor": 2
}
